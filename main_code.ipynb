{
 "cells": [
  {
   "cell_type": "code",
   "execution_count": 1,
   "metadata": {},
   "outputs": [],
   "source": [
    "# Importing the necessary packages.\n",
    "import joblib\n",
    "import cv2"
   ]
  },
  {
   "cell_type": "code",
   "execution_count": 2,
   "metadata": {},
   "outputs": [],
   "source": [
    "# Loading the position list from the saved model if any.\n",
    "try:\n",
    "    poslist=joblib.load(r\"C:\\Users\\gopig\\OneDrive\\Desktop\\Project DL-ParkingSpaceDetection\\positionlist.sav\")\n",
    "except:\n",
    "    print(\"Draw all the rectangles first.\")"
   ]
  },
  {
   "cell_type": "code",
   "execution_count": 3,
   "metadata": {},
   "outputs": [],
   "source": [
    "# Copying down the length and the width of the rectangles.\n",
    "length_rect=157-50\n",
    "width_rect=141-97"
   ]
  },
  {
   "cell_type": "code",
   "execution_count": 4,
   "metadata": {},
   "outputs": [],
   "source": [
    "# Reading video\n",
    "video=cv2.VideoCapture(r\"C:\\Users\\gopig\\OneDrive\\Desktop\\Project DL-ParkingSpaceDetection\\parkinglot.mp4\")"
   ]
  },
  {
   "cell_type": "code",
   "execution_count": 5,
   "metadata": {},
   "outputs": [],
   "source": [
    "# Creating a function for identifying parking lots.\n",
    "def checkspace(img_binary):\n",
    "    number_lots=0\n",
    "    for pos in poslist:\n",
    "        x,y=pos\n",
    "        img_cropped=img_binary[y:y+width_rect,x:x+length_rect]\n",
    "        count=cv2.countNonZero(img_cropped)\n",
    "        #cv2.putText(frame,str(count),pos,cv2.FONT_HERSHEY_COMPLEX,0.5,(0,0,0),1)\n",
    "        if count<390:\n",
    "            cv2.rectangle(frame,pt1=pos,pt2=(pos[0]+length_rect,pos[1]+width_rect),color=(0,255,0),thickness=1)\n",
    "            number_lots+=1\n",
    "        else:\n",
    "            cv2.rectangle(frame,pt1=pos,pt2=(pos[0]+length_rect,pos[1]+width_rect),color=(0,0,255),thickness=1)\n",
    "    cv2.rectangle(frame,(475,40),(620,85),(0,255,0),cv2.FILLED)\n",
    "    cv2.rectangle(frame,pt1=(475,40),pt2=(620,85),color=(0,0,0),thickness=2)\n",
    "    cv2.putText(frame,\"Free:{0}/69\".format(number_lots),(490,70),cv2.FONT_HERSHEY_COMPLEX,0.6,(0,0,0),1)\n",
    "    "
   ]
  },
  {
   "cell_type": "code",
   "execution_count": 6,
   "metadata": {},
   "outputs": [],
   "source": [
    "# Finding the parking spaces from the video.\n",
    "while True:\n",
    "    if video.get(cv2.CAP_PROP_POS_FRAMES)==video.get(cv2.CAP_PROP_FRAME_COUNT):\n",
    "        video.set(cv2.CAP_PROP_POS_FRAMES,0)\n",
    "    suc,frame=video.read()\n",
    "    img_grey=cv2.cvtColor(frame,cv2.COLOR_BGR2GRAY)\n",
    "    img_binary=cv2.Canny(img_grey,100,200)\n",
    "    checkspace(img_binary)\n",
    "    cv2.imshow(\"Image\",frame)\n",
    "    cv2.waitKey(10)\n",
    "    if cv2.waitKey(1) & 0XFF==ord(\"q\"):\n",
    "        break\n",
    "cv2.destroyAllWindows()\n",
    "    "
   ]
  }
 ],
 "metadata": {
  "kernelspec": {
   "display_name": "Python 3",
   "language": "python",
   "name": "python3"
  },
  "language_info": {
   "codemirror_mode": {
    "name": "ipython",
    "version": 3
   },
   "file_extension": ".py",
   "mimetype": "text/x-python",
   "name": "python",
   "nbconvert_exporter": "python",
   "pygments_lexer": "ipython3",
   "version": "3.11.4"
  },
  "orig_nbformat": 4
 },
 "nbformat": 4,
 "nbformat_minor": 2
}
